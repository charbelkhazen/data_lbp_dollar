{
 "cells": [
  {
   "cell_type": "code",
   "execution_count": 1,
   "id": "79b00e0d",
   "metadata": {},
   "outputs": [
    {
     "name": "stdout",
     "output_type": "stream",
     "text": [
      "this is :bid\n",
      "this is :ask\n",
      "this is : oct 95 \n",
      "this is :oct 98\n",
      "this is :diesel\n",
      "this is :gas\n",
      "this is :crude\n",
      "this is :omt\n",
      "this is :Sayrafa\n",
      "{}\n"
     ]
    }
   ],
   "source": [
    "import numpy as np\n",
    "import pandas as pd\n",
    "\n",
    "'''\n",
    "VERY VERY IMPORTANT\n",
    "WHEN CLEANING THE TEXT FILE MAKE SURE THERE ARE NO NEW LINES AT THE END\n",
    "NO EMPTY LINES IN THE TEXT FILE\n",
    "'''\n",
    "\n",
    "\n",
    "\n",
    "\n",
    "content = open('modified.txt','r' ).read()\n",
    "size_content = len(content)\n",
    "prices= [ \"bid\" , \"ask\" , \" oct 95 \" , \"oct 98\" , \"diesel\",\"gas\",\"crude\" , \"omt\", \"Sayrafa\" ]\n",
    "counter_category = 0;\n",
    "category = prices[counter_category]\n",
    "index = ''\n",
    "value = ''\n",
    "\n",
    "data = {} # Final data stored in this dict\n",
    "precedente_rupture = 0\n",
    "counter_rupture = 0 #BINARY NUMBER THAT CHANGES WHENEVR THERE IS A RUPTURE BETWEEN INDEX AND VALUE\n",
    "for i in range(size_content):\n",
    "    if ord(content[i]) == 10:  # ASCII 10 corresponds to char: new line\n",
    "        counter_category +=1\n",
    "        category = prices[counter_category]\n",
    "    if (48 <= ord(content[i]) )and ( ord(content[i]) <= 57): #if digit\n",
    "        if counter_rupture == 0:\n",
    "            index += content[i]\n",
    "        else:\n",
    "            value += content[i]\n",
    "\n",
    "        if (ord(content[i+1]) < 48) or (ord(content[i+1]) > 57):  #if SUCCEEDING non digit\n",
    "            precedente_rupture = counter_rupture\n",
    "\n",
    "            counter_rupture = (counter_rupture + 1 )% 2         #equal to one when there is a sepation : used in ordet to add to  value which comes after\n",
    "        if (counter_rupture - precedente_rupture) ==1 :\n",
    "            data[category] = {}\n",
    "            if index != \"\" and value != \"\":  # added check to ensure index and value are not empty\n",
    "                data[category][int(index)] = float(value)\n",
    "            index = \"\"\n",
    "            value = \"\"\n",
    "\n",
    "#visualising my data dict\n",
    "\n",
    "for i in data:\n",
    "    print(\"this is :\" + i)\n",
    "\n",
    "print(data[\"ask\"])"
   ]
  },
  {
   "cell_type": "code",
   "execution_count": null,
   "id": "ec091229",
   "metadata": {},
   "outputs": [],
   "source": []
  }
 ],
 "metadata": {
  "kernelspec": {
   "display_name": "Python 3 (ipykernel)",
   "language": "python",
   "name": "python3"
  },
  "language_info": {
   "codemirror_mode": {
    "name": "ipython",
    "version": 3
   },
   "file_extension": ".py",
   "mimetype": "text/x-python",
   "name": "python",
   "nbconvert_exporter": "python",
   "pygments_lexer": "ipython3",
   "version": "3.9.13"
  }
 },
 "nbformat": 4,
 "nbformat_minor": 5
}
